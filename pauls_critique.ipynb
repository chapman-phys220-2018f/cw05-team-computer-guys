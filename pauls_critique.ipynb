{
 "cells": [
  {
   "cell_type": "code",
   "execution_count": 0,
   "metadata": {
    "collapsed": false
   },
   "outputs": [
   ],
   "source": [
    "Is it clear how the code is organized? \n",
    "Yes, it is organized well.\n",
    "Is the code properly documented with both docstrings and supplementary comments according to industry standards? \n",
    "Yes.\n",
    "\n",
    "Can you follow the algorithm of the code, i.e., what it is doing, and how? \n",
    "It is easy to follow.\n",
    "\n",
    "Does the code work? \n",
    "Yes.\n",
    "\n",
    "Do you see any suggestions for how to improve the code? \n",
    "Refactor for clarity.\n",
    "\n",
    "Are the test cases in the test module run by the code automatically by Travis? \n",
    "Yes, it did, after modifications.\n",
    "\n",
    "Do the tests verify correct functionality? \n",
    "Yes it was verified.\n",
    "\n",
    "On a scale of 0-100, the reviewer should rate the work produced by the reviewee. As the reviewer writes this critique and evaluation into the Jupyter notebook, the reviewer should discuss these questions and any issues that arise with the reviewee.\n",
    "\n",
    "100, all fixed, did a good job. "
   ]
  }
 ],
 "metadata": {
  "kernelspec": {
   "display_name": "SageMath (stable)",
   "name": "sagemath"
  },
  "language_info": {
   "codemirror_mode": {
    "name": "ipython",
    "version": 2
   },
   "file_extension": ".py",
   "mimetype": "text/x-python",
   "name": "python",
   "nbconvert_exporter": "python",
   "pygments_lexer": "ipython2",
   "version": "2.7.15"
  }
 },
 "nbformat": 4,
 "nbformat_minor": 0
}