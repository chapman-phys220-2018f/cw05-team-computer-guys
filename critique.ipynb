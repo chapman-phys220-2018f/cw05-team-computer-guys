{
 "cells": [
  {
   "cell_type": "code",
   "execution_count": 0,
   "metadata": {
    "collapsed": false
   },
   "outputs": [
   ],
   "source": [
   ]
  },
  {
   "cell_type": "markdown",
   "metadata": {
    "collapsed": false
   },
   "source": [
    "## Critique\n",
    "The code for the generation of a fibonnaci sequence was clearly organized, with informative but unobtrusive comments dictating the function and implementation of the algorithm.  The function began by defining variables for the current and previous fibonacci numbers, then ran through a number of iterations to generate a list of fibonacci numbers.  The code ran perfectly, but there were a few stylistic choices I feel could be improved upon.  The list of numbers was originally defined with the first fibonacci number, 1, already in the list.  The loop then ran for the range of 0 to n-1, generating the next set of fibonacci numbers.  I feel this could be clarified, having the first loop generate the initial number and then subseqently running a full n times.  Other options would include making the range 1 to n, which would clarify the fact that the number at index 0 already exists.  Additionally, the program lacked a check for the input actually parsing to an integer.  To improve the code, a short \"try\" block with a value error caught would make the program more robust.  The program passed all travis tests, and therefore functions as intended.  Overall, I would give the code a 98/100.  The code is fully-functional and efficient, but could use a few minor tweaks for clarification to make the code the most readable that it can be."
   ]
  },
  {
   "cell_type": "code",
   "execution_count": 0,
   "metadata": {
    "collapsed": false
   },
   "outputs": [
   ],
   "source": [
   ]
  },
  {
   "cell_type": "code",
   "execution_count": 0,
   "metadata": {
    "collapsed": false
   },
   "outputs": [
   ],
   "source": [
   ]
  }
 ],
 "metadata": {
  "kernelspec": {
   "display_name": "Python 3 (Anaconda 5)",
   "language": "python",
   "name": "anaconda5"
  }
 },
 "nbformat": 4,
 "nbformat_minor": 0
}