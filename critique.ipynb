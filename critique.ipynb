{
 "cells": [
  {
   "cell_type": "markdown",
   "metadata": {
    "collapsed": false
   },
   "source": [
    "## Critique\n",
    "\n",
    "Trevor Kling\n",
    "\n",
    "The code for the generation of a fibonnaci sequence was clearly organized, with informative but unobtrusive comments dictating the function and implementation of the algorithm.  The function began by defining variables for the current and previous fibonacci numbers, then ran through a number of iterations to generate a list of fibonacci numbers.  The code ran perfectly, but there were a few stylistic choices I feel could be improved upon.  The list of numbers was originally defined with the first fibonacci number, 1, already in the list.  The loop then ran for the range of 0 to n-1, generating the next set of fibonacci numbers.  I feel this could be clarified, having the first loop generate the initial number and then subseqently running a full n times.  Other options would include making the range 1 to n, which would clarify the fact that the number at index 0 already exists.  Additionally, the program lacked a check for the input actually parsing to an integer.  To improve the code, a short \"try\" block with a value error caught would make the program more robust.  The program passed all travis tests, and therefore functions as intended.  Overall, I would give the code a 98/100.  The code is fully-functional and efficient, but could use a few minor tweaks for clarification to make the code the most readable that it can be."
   ]
  },
  {
   "cell_type": "markdown",
   "metadata": {
    "collapsed": false
   },
   "source": [
    "## Critique\n",
    "\n",
    "Paul Hatem\n",
    "\n",
    "Is it clear how the code is organized? \n",
    "Yes, it is organized well.\n",
    "Is the code properly documented with both docstrings and supplementary comments according to industry standards? \n",
    "Yes.\n",
    "\n",
    "Can you follow the algorithm of the code, i.e., what it is doing, and how? \n",
    "It is easy to follow.\n",
    "\n",
    "Does the code work? \n",
    "Yes.\n",
    "\n",
    "Do you see any suggestions for how to improve the code? \n",
    "Refactor for clarity.\n",
    "\n",
    "Are the test cases in the test module run by the code automatically by Travis? \n",
    "Yes, it did, after modifications.\n",
    "\n",
    "Do the tests verify correct functionality? \n",
    "Yes it was verified.\n",
    "\n",
    "On a scale of 0-100, the reviewer should rate the work produced by the reviewee. As the reviewer writes this critique and evaluation into the Jupyter notebook, the reviewer should discuss these questions and any issues that arise with the reviewee.\n",
    "\n",
    "100, all fixed, did a good job. "
   ]
  },
  {
   "cell_type": "code",
   "execution_count": 0,
   "metadata": {
    "collapsed": false
   },
   "outputs": [
   ],
   "source": [
   ]
  }
 ],
 "metadata": {
  "kernelspec": {
   "display_name": "Python 3 (Anaconda 5)",
   "language": "python",
   "name": "anaconda5"
  },
  "language_info": {
   "codemirror_mode": {
    "name": "ipython",
    "version": 3
   },
   "file_extension": ".py",
   "mimetype": "text/x-python",
   "name": "python",
   "nbconvert_exporter": "python",
   "pygments_lexer": "ipython3",
   "version": "3.6.5"
  }
 },
 "nbformat": 4,
 "nbformat_minor": 0
}